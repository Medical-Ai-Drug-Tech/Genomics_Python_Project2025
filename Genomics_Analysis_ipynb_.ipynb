{
  "nbformat": 4,
  "nbformat_minor": 0,
  "metadata": {
    "colab": {
      "provenance": [],
      "authorship_tag": "ABX9TyPp3TceuUlSCFAzhZ2n7YSp",
      "include_colab_link": true
    },
    "kernelspec": {
      "name": "python3",
      "display_name": "Python 3"
    },
    "language_info": {
      "name": "python"
    }
  },
  "cells": [
    {
      "cell_type": "markdown",
      "metadata": {
        "id": "view-in-github",
        "colab_type": "text"
      },
      "source": [
        "<a href=\"https://colab.research.google.com/github/NGUYENlONG-AITECH/Genomics_Python_Project2025/blob/main/Genomics_Analysis_ipynb_.ipynb\" target=\"_parent\"><img src=\"https://colab.research.google.com/assets/colab-badge.svg\" alt=\"Open In Colab\"/></a>"
      ]
    },
    {
      "cell_type": "code",
      "execution_count": 4,
      "metadata": {
        "colab": {
          "base_uri": "https://localhost:8080/"
        },
        "id": "DGCtgfSicUX6",
        "outputId": "43e43d87-00a6-4578-a205-5bf64704aba1"
      },
      "outputs": [
        {
          "output_type": "stream",
          "name": "stdout",
          "text": [
            "Data saved as 'gene_expression.csv'\n",
            "Mức biểu hiện trung bình: 89.00\n",
            "Gene có mức biểu hiện cao nhất: TP53 (120)\n"
          ]
        }
      ],
      "source": [
        "import pandas as pd\n",
        "\n",
        "\n",
        "\n",
        "# Dữ liệu mẫu về gene và mức độ biểu hiện\n",
        "\n",
        "data = {\n",
        "\n",
        "    \"Gene\": [\"BRCA1\", \"TP53\", \"EGFR\", \"MYC\", \"APC\"],\n",
        "\n",
        "    \"Expression_Level\": [50, 120, 75, 110, 90]\n",
        "\n",
        "}\n",
        "\n",
        "df = pd.DataFrame(data)\n",
        "\n",
        "df.to_csv(\"gene_expression.csv\", index=False)\n",
        "\n",
        "\n",
        "\n",
        "print(\"Data saved as 'gene_expression.csv'\")\n",
        "\n",
        "# Đọc dữ liệu từ file CSV\n",
        "df = pd.read_csv(\"gene_expression.csv\")\n",
        "\n",
        "# Tính mức biểu hiện trung bình\n",
        "mean_expression = df[\"Expression_Level\"].mean()\n",
        "\n",
        "print(f\"Mức biểu hiện trung bình: {mean_expression:.2f}\")\n",
        "\n",
        "# Tìm gene có mức biểu hiện cao nhất\n",
        "max_gene = df.loc[df[\"Expression_Level\"].idxmax()]\n",
        "print(f\"Gene có mức biểu hiện cao nhất: {max_gene['Gene']} ({max_gene['Expression_Level']})\")\n"
      ]
    }
  ]
}